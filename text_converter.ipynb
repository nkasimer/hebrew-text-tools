{
 "cells": [
  {
   "cell_type": "markdown",
   "metadata": {},
   "source": [
    "# Script to automatically make diacritical corrections in Hebrew text"
   ]
  },
  {
   "cell_type": "markdown",
   "metadata": {},
   "source": [
    "## Defines letters and words"
   ]
  },
  {
   "cell_type": "code",
   "execution_count": 1,
   "metadata": {},
   "outputs": [],
   "source": [
    "aleph_bet = ['א','ב','ג','ד','ה','ו','ז','ח','ט','י','כ','ך','ל','מ','ם',\n",
    "             'נ','ן','ס','ע','פ','ף','צ','ק','ר','ש','ת','װ','ױ','ײ','יִ',\n",
    "             'ﬡ','ﬢ','ﬣ','ﬤ','ﬥ','ﬦ','ﬧ','ﬨ','שׁ','שׂ','שּׁ','שּׂ','אַ','אָ',\n",
    "             'גּ','דּ','הּ','וּ','זּ','טּ','יּ','ךּ','כּ','לּ','מּ','נּ','סּ','ףּ',\n",
    "             'פּ','צּ','שּ','תּ','וֹ','בֿ','כֿ','פֿ','ﭏ','בּ', 'קּ']\n",
    "\n",
    "cant = ['֑','֒','֓','֔','֕','֖','֗','֘','֙','֚','֛','֜',\n",
    "             '֝','֞','֠','֡','֢','֣','֤','֥','֦','֧','֨','֩','֪','֫','֬','֭','֯','׃']\n",
    "\n",
    "cant2 = cant[:28]\n",
    "\n",
    "vowel = ['ְ','ֱ','ֲ','ֳ','ִ','ֵ','ֶ','ַ','ָ','ֹ','ֺ','ֻ','ּ','ֽ','־','ֿ','ׁ','ׂ','ׄ','ׅ','ׇ']\n",
    "\n",
    "letter_with_dagesh = ['שּׁ','שּׂ','גּ','דּ','זּ','טּ','יּ','כּ','לּ','מּ','נּ','סּ','פּ','צּ','שּ','תּ','בּ','קּ']\n",
    "rafe = 'ֿ'\n",
    "shva = vowel[0]\n",
    "chataf_vowels = vowel[1:4]\n",
    "short_vowels = [vowel[4],vowel[6],vowel[7],vowel[11],vowel[20]]\n",
    "long_vowels = ['וֹ','וּ', vowel[5], vowel[8], aleph_bet[9], 'ֹ']\n",
    "vowels_limited = vowel[0:4]+short_vowels+long_vowels\n",
    "dagesh = 'ּ'\n",
    "maqqaf = '־'\n",
    "meteg = 'ֽ'\n",
    "dot = '֯'\n",
    "silluq = '׃'\n",
    "colon = ':'\n",
    "other_char = ['ׂ','ׁ','ֿ','֯','ׅ','']\n",
    "all_char = aleph_bet+cant+vowel+other_char\n",
    "\n",
    "gutterals = ['א','ה','ח','ע','ר' ,'ﬡ','ﬣ','ﬧ']             "
   ]
  },
  {
   "cell_type": "code",
   "execution_count": 2,
   "metadata": {},
   "outputs": [],
   "source": [
    "letters_w_final = ['כ','מ','נ','פ','צ']\n",
    "final_letters = ['ך','ם','ן','ף','ץ']"
   ]
  },
  {
   "cell_type": "code",
   "execution_count": 3,
   "metadata": {},
   "outputs": [],
   "source": [
    "shem = 'יהוה'\n",
    "shem_vowels = 'יְהֹוָה'\n",
    "yy_vowels = aleph_bet[9]+vowel[0]+aleph_bet[9]+vowel[8]\n",
    "\n",
    "kal_backwards_dagesh = 'כָּל'\n",
    "kal_dagesh = 'כָּל'\n",
    "kal = aleph_bet[52] + vowel[8] + aleph_bet[12]\n",
    "khal = aleph_bet[10] + vowel[8] + aleph_bet[12]\n",
    "kol = aleph_bet[52] + vowel[20] + aleph_bet[12]\n",
    "kol_maqqaf = aleph_bet[52] + vowel[20] + aleph_bet[12] + '־'\n",
    "khol_maqqaf = aleph_bet[10] + vowel[20] + aleph_bet[12] + '־'\n",
    "kol_space = aleph_bet[52] + vowel[20] + aleph_bet[12] + ' '\n",
    "khol_space = aleph_bet[10] + vowel[20] + aleph_bet[12] + ' '\n",
    "\n",
    "et = 'אֶת'\n",
    "ve_et = 'וְאֶת'\n",
    "space_et_space = ' ' + 'אֶת' + ' '\n",
    "space_ve_et_space = ' ' + 'וְאֶת' + ' '\n",
    "et_maqqaf = ' ' + 'אֶת' + '־'\n",
    "ve_et_maqqaf = ' ' + 'וְאֶת' + '־'"
   ]
  },
  {
   "cell_type": "code",
   "execution_count": 4,
   "metadata": {},
   "outputs": [],
   "source": [
    "shva_exceptions = ['שְׁתֵּי','שְׁתָּיִם','שְׁתַּיִם','שְׁנִַים','שְׁנֵי','שְׁתֵּים','שְׁנֵים','שְׁנֵי','שְׁנֵים','שְׁנָיִם']\n",
    "battim = 'בָּתִּים'\n",
    "batteinu = 'בָתֵּֽינוּ'\n",
    "vattim = 'בָתִּים'\n",
    "battei = 'בָּתֵּי'\n",
    "ana = 'אָנָּא'\n",
    "ana2 = 'אָנָּא'\n",
    "ana3 = 'אָנָּא'\n",
    "anah = 'אָנָּה'\n",
    "kamatz_katan_exceptions = [battim, vattim, ana, ana2, ana3, anah, batteinu]\n",
    "known_nasog_achor = ['היתה','אזרו']\n",
    "known_shva_nach = ['לילה']"
   ]
  },
  {
   "cell_type": "code",
   "execution_count": 5,
   "metadata": {},
   "outputs": [],
   "source": [
    "#the shem converter \"eats\" some special characters next to sheimot, this stops it from doing that\n",
    "#it doesn't work all that well, so often manual intervention is necessary.\n",
    "special_characters = ['{', '}','\\\\']"
   ]
  },
  {
   "cell_type": "markdown",
   "metadata": {},
   "source": [
    "## Strips vowels and cantelation marks from words"
   ]
  },
  {
   "cell_type": "code",
   "execution_count": 6,
   "metadata": {},
   "outputs": [],
   "source": [
    "#removes trop and vowels\n",
    "def nonalpha_remover(word):\n",
    "    no_cant_word = ''\n",
    "    for letter in word:\n",
    "        if letter.isalpha() == True:\n",
    "            no_cant_word = no_cant_word + letter\n",
    "    return no_cant_word"
   ]
  },
  {
   "cell_type": "code",
   "execution_count": 7,
   "metadata": {},
   "outputs": [],
   "source": [
    "#removes trop but not vowels\n",
    "def trop_remover(word):\n",
    "    no_cant_word = ''\n",
    "    for letter in word:\n",
    "        if letter not in cant:\n",
    "            no_cant_word = no_cant_word + letter\n",
    "    return no_cant_word"
   ]
  },
  {
   "cell_type": "markdown",
   "metadata": {},
   "source": [
    "## Converts Shem-Havaya to double-yud while preserving cantelation marks"
   ]
  },
  {
   "cell_type": "code",
   "execution_count": 8,
   "metadata": {},
   "outputs": [],
   "source": [
    "def shem_converter(word):\n",
    "    prefix = ''\n",
    "    if word[0] != aleph_bet[9]:\n",
    "        prefix = prefix + word[0]\n",
    "        i = 1\n",
    "        if word[1].isalpha() == False:\n",
    "            prefix = prefix + word[1]\n",
    "            if word[2].isalpha() == False:\n",
    "                prefix = prefix + word[2]\n",
    "    no_prefix_word = word[len(prefix):]\n",
    "\n",
    "    if len(prefix) > 0:\n",
    "        yud1 = aleph_bet[9]\n",
    "    else:\n",
    "        yud1 = aleph_bet[9]+vowel[0]\n",
    "\n",
    "    yud2 = aleph_bet[9]+vowel[8]\n",
    "\n",
    "    cant_marks = []\n",
    "\n",
    "    #finds suffix\n",
    "    suffix = ''\n",
    "    i = -1\n",
    "    while word[i] != aleph_bet[4]:\n",
    "        if word[i] in special_characters:\n",
    "            suffix = word[i] + suffix\n",
    "        i = i-1\n",
    "    \n",
    "    for character in no_prefix_word:\n",
    "        if character in cant:\n",
    "            cant_marks.append(character)\n",
    "    if len(cant_marks) == 0:\n",
    "        new_shem = prefix + yud1 + yud2 + suffix\n",
    "    elif len(cant_marks) == 1:\n",
    "        new_shem = prefix + yud1 + yud2 + cant_marks[0] + suffix\n",
    "    elif len(cant_marks) == 2:\n",
    "        new_shem = prefix + yud1 + cant_marks[0] + yud2 + cant_marks[1] + suffix\n",
    "\n",
    "    return new_shem"
   ]
  },
  {
   "cell_type": "code",
   "execution_count": 9,
   "metadata": {},
   "outputs": [],
   "source": [
    "## Creates new paragraph with double-yud in place of Shem Havaya"
   ]
  },
  {
   "cell_type": "code",
   "execution_count": 10,
   "metadata": {},
   "outputs": [],
   "source": [
    "#this needs to be fixed to stop eating special characters (i.e. brackets, \\)"
   ]
  },
  {
   "cell_type": "code",
   "execution_count": 11,
   "metadata": {},
   "outputs": [],
   "source": [
    "def convert_shem(paragraph):\n",
    "    paragraph = str.replace(paragraph, '־', ' ־ ')\n",
    "    par_list = paragraph.split()\n",
    "    for word in par_list:\n",
    "        index = par_list.index(word)\n",
    "        if shem in nonalpha_remover(word):\n",
    "            double_yud = shem_converter(word)\n",
    "            par_list[index] = double_yud\n",
    "\n",
    "    new_par = ' '.join(par_list)\n",
    "    new_par = str.replace(new_par, ' ־ ','־')\n",
    "    new_par = str.replace(new_par, '׃', '׃')\n",
    "    return new_par"
   ]
  },
  {
   "cell_type": "code",
   "execution_count": 12,
   "metadata": {},
   "outputs": [],
   "source": [
    "## use https://he.wikisource.org/wiki/%D7%9E%D7%A7%D7%A8%D7%90 for testing texts"
   ]
  },
  {
   "cell_type": "code",
   "execution_count": 13,
   "metadata": {},
   "outputs": [
    {
     "data": {
      "text/plain": [
       "'הוֹשִׁ֤יעָה \\\\source{תהלים כח}אֶת־עַמֶּ֗ךָ וּבָרֵ֥ךְ אֶת־נַֽחֲלָתֶ֑ךָ וּֽרְעֵ֥ם וְ֝נַשְּׂאֵ֗ם עַד־הָֽעוֹלָֽם׃ \\\\source{מל״א ח}וְיִֽהְי֨וּ דְבָרַ֜י אֵ֗לֶּה אֲשֶׁ֤ר הִתְחַנַּ֙נְתִּי֙ לִפְנֵ֣י יְיָ֔ קְרֹבִ֛ים אֶל־יְיָ֥ אֱלֹהֵ֖ינוּ יוֹמָ֣ם וָלָ֑יְלָה לַעֲשׂ֣וֹת ׀ מִשְׁפַּ֣ט עַבְדּ֗וֹ וּמִשְׁפַּ֛ט עַמּ֥וֹ יִשְׂרָאֵ֖ל דְּבַר־י֥וֹם בְּיוֹמֽוֹ׃ לְמַ֗עַן דַּ֚עַת כׇּל־עַמֵּ֣י הָאָ֔רֶץ כִּ֥י יְיָ֖ ה֣וּא הָאֱלֹהִ֑ים אֵ֖ין עֽוֹד׃'"
      ]
     },
     "execution_count": 13,
     "metadata": {},
     "output_type": "execute_result"
    }
   ],
   "source": [
    "text = 'הוֹשִׁ֤יעָה \\source{תהלים כח}אֶת־עַמֶּ֗ךָ וּבָרֵ֥ךְ אֶת־נַֽחֲלָתֶ֑ךָ וּֽרְעֵ֥ם וְ֝נַשְּׂאֵ֗ם עַד־הָֽעוֹלָֽם׃ \\source{מל״א ח}וְיִֽהְי֨וּ דְבָרַ֜י אֵ֗לֶּה אֲשֶׁ֤ר הִתְחַנַּ֙נְתִּי֙ לִפְנֵ֣י יְהֹוָ֔ה קְרֹבִ֛ים אֶל־יְהֹוָ֥ה אֱלֹהֵ֖ינוּ יוֹמָ֣ם וָלָ֑יְלָה לַעֲשׂ֣וֹת ׀ מִשְׁפַּ֣ט עַבְדּ֗וֹ וּמִשְׁפַּ֛ט עַמּ֥וֹ יִשְׂרָאֵ֖ל דְּבַר־י֥וֹם בְּיוֹמֽוֹ׃ לְמַ֗עַן דַּ֚עַת כׇּל־עַמֵּ֣י הָאָ֔רֶץ כִּ֥י יְהֹוָ֖ה ה֣וּא הָאֱלֹהִ֑ים אֵ֖ין עֽוֹד׃'\n",
    "convert_shem(text)"
   ]
  },
  {
   "cell_type": "code",
   "execution_count": null,
   "metadata": {},
   "outputs": [],
   "source": []
  },
  {
   "cell_type": "markdown",
   "metadata": {},
   "source": [
    "## Puts a kamatz katan and maqqaf in \"kol\""
   ]
  },
  {
   "cell_type": "code",
   "execution_count": 14,
   "metadata": {},
   "outputs": [],
   "source": [
    "#this script does not work on words with trope\n",
    "#Since pesukim from wikisource have maqqafs and kamatz katans, it shouldn't make it less useful"
   ]
  },
  {
   "cell_type": "code",
   "execution_count": 15,
   "metadata": {},
   "outputs": [],
   "source": [
    "def kamatz_exception(word):\n",
    "    if word[-1] != aleph_bet[12]:\n",
    "        return True\n",
    "    elif aleph_bet[9] in word:\n",
    "        return True\n",
    "    elif aleph_bet[0] in word:\n",
    "        return True\n",
    "    else:\n",
    "        return False\n",
    "    #returns \"true\" if the word is a likely false positive for the word \"kol\""
   ]
  },
  {
   "cell_type": "code",
   "execution_count": 16,
   "metadata": {},
   "outputs": [],
   "source": [
    "def kol_kamatz_katan(paragraph):\n",
    "    paragraph = str.replace(paragraph, '־', ' ־ ')\n",
    "    par_list = paragraph.split()\n",
    "    #Paragraph is now split into words\n",
    "    for word in par_list:\n",
    "        index = par_list.index(word)\n",
    "        if (kal in word or khal in word or kal_backwards_dagesh in word or kal_dagesh in word) and kamatz_exception(word) == False:\n",
    "            if kal_backwards_dagesh in word:\n",
    "                word = word.replace(kal_backwards_dagesh,kol)\n",
    "            if kal_dagesh in word:\n",
    "                word = word.replace(kal_dagesh,kol)\n",
    "            split_word = word.split(vowel[8])\n",
    "            word = vowel[20].join(split_word)\n",
    "            par_list[index] = word\n",
    "            #If \"k(h)al\" appears in a word, change it to a kamatz katan\n",
    "    new_par = ' '.join(par_list)\n",
    "    new_par = str.replace(new_par, ' ־ ','־')\n",
    "    #Put paragraph back together\n",
    "    if kol_space in new_par: \n",
    "        new_par_split = new_par.split(kol_space)\n",
    "        new_par = kol_maqqaf.join(new_par_split)\n",
    "    if khol_space in new_par:\n",
    "        new_par_split = new_par.split(khol_space)\n",
    "        new_par = khol_maqqaf.join(new_par_split)\n",
    "    #Previous if-statements swap a space following \"kol\" to a maqqaf\n",
    "    new_par = str.replace(new_par, '׃', '׃')\n",
    "    return new_par"
   ]
  },
  {
   "cell_type": "markdown",
   "metadata": {},
   "source": [
    "## Puts a Maqqaf after \"et\" (when it has a segol)"
   ]
  },
  {
   "cell_type": "code",
   "execution_count": 17,
   "metadata": {},
   "outputs": [],
   "source": [
    "#this script does not work on words with trope\n",
    "#Since pesukim from wikisource have maqqafs, this shouldn't be a problem."
   ]
  },
  {
   "cell_type": "code",
   "execution_count": 18,
   "metadata": {},
   "outputs": [],
   "source": [
    "def et_fixer(paragraph):\n",
    "    par_list = paragraph.split()\n",
    "    if et in par_list:\n",
    "        new_par_split = paragraph.split(space_et_space)\n",
    "        new_paragraph = et_maqqaf.join(new_par_split)\n",
    "        new_par_split = new_paragraph.split(space_ve_et_space)\n",
    "        new_paragraph = ve_et_maqqaf.join(new_par_split)\n",
    "    else:\n",
    "        new_paragraph = paragraph\n",
    "    return new_paragraph"
   ]
  },
  {
   "cell_type": "markdown",
   "metadata": {},
   "source": [
    "## Puts a kamatz katan in common kamatz-katan words and situations"
   ]
  },
  {
   "cell_type": "code",
   "execution_count": 19,
   "metadata": {},
   "outputs": [],
   "source": [
    "#this script does not work on words with trope\n",
    "#Since pesukim from wikisource have kamatz katans, this shouldn't be too much of a problem."
   ]
  },
  {
   "cell_type": "code",
   "execution_count": 20,
   "metadata": {},
   "outputs": [],
   "source": [
    "#removes shva marks, to check for kamatz katans\n",
    "#Since some may preceed erroneously marked shvas\n",
    "#This will need to be adjusted if the shva na marker is not a rafe\n",
    "def shva_mark_remover(word):\n",
    "    if rafe in word:\n",
    "        word = word.replace(rafe,'')\n",
    "    if dot in word:\n",
    "        word = word.replace(dot,'')\n",
    "    return word"
   ]
  },
  {
   "cell_type": "code",
   "execution_count": 21,
   "metadata": {},
   "outputs": [],
   "source": [
    "#this imports a list of kamatz-katan words to fix and their replacements\n",
    "#import csv\n",
    "import csv\n",
    "words_to_fix = []\n",
    "corrected_words = []\n",
    "with open('kamatz_correction_list.csv', 'r', encoding='utf-8') as csvDataFile:\n",
    "    csvReader = csv.reader(csvDataFile)\n",
    "    for row in csvReader:\n",
    "        words_to_fix.append(shva_mark_remover(row[0]))\n",
    "        corrected_words.append(row[1])\n",
    "words_to_fix=words_to_fix[1:]\n",
    "corrected_words=corrected_words[1:]"
   ]
  },
  {
   "cell_type": "code",
   "execution_count": 22,
   "metadata": {},
   "outputs": [],
   "source": [
    "def kamatz_list_tester(word):\n",
    "    i=0\n",
    "    while i<len(words_to_fix):\n",
    "        if shva_mark_remover(word)==words_to_fix[i]:\n",
    "            word = corrected_words[i]\n",
    "        i=i+1\n",
    "    return word"
   ]
  },
  {
   "cell_type": "code",
   "execution_count": 23,
   "metadata": {},
   "outputs": [],
   "source": [
    "def kamatz_katan_dagesh_tester(word,index,i):\n",
    "    next_consonant = word[i]\n",
    "    if next_consonant == 'ה':\n",
    "        return False\n",
    "    elif word[index+1] == meteg:\n",
    "        return False\n",
    "    elif next_consonant in letter_with_dagesh:\n",
    "        return True\n",
    "    elif word[i+1] == dagesh:\n",
    "        return True\n",
    "    else:\n",
    "        return False"
   ]
  },
  {
   "cell_type": "code",
   "execution_count": 24,
   "metadata": {},
   "outputs": [],
   "source": [
    "def kamatz_katan_adder(word):    \n",
    "    #prevents script from erroneously fixing false positives\n",
    "    nt_word = nonalpha_remover(word)\n",
    "    for index in range(0,len(kamatz_katan_exceptions)):\n",
    "        if nonalpha_remover(kamatz_katan_exceptions[index]) in nt_word:\n",
    "            return word\n",
    "    \n",
    "    #runs word through list of predefined kamatz words to check\n",
    "    if shva_mark_remover(word) in words_to_fix:\n",
    "        return kamatz_list_tester(word)\n",
    "    elif (shva_mark_remover(word)+colon or shva_mark_remover(word)+silluq) in words_to_fix:\n",
    "        return kamatz_list_tester(word)+silluq\n",
    "    \n",
    "    for index in range(1,len(word)-3):\n",
    "        if word[index] == vowel[8]:\n",
    "            i = index\n",
    "            while word[i] not in aleph_bet:\n",
    "                i = i+1\n",
    "                if i>len(word)-1:\n",
    "                    break\n",
    "            if i<len(word)-1:\n",
    "                next_consonant = word[i]\n",
    "                if kamatz_katan_dagesh_tester(word,index,i)==True:\n",
    "                    word = word[:index]+vowel[20]+word[index+1:]\n",
    "            \n",
    "            i = index+1\n",
    "            while word[i] not in vowels_limited:\n",
    "                i = i+1\n",
    "                if i>len(word)-1:\n",
    "                    return word\n",
    "            next_vowel = word[i]\n",
    "            if next_vowel == chataf_vowels[2] and next_consonant in gutterals:\n",
    "                word = word[:index]+vowel[20]+word[index+1:]\n",
    "                return word\n",
    "            #finds the vowel after the next one.  If both are shvas, the kamatz is katan.\n",
    "            if next_vowel == shva and shva in word[index+1:]:\n",
    "                if i<len(word)-1:\n",
    "                    i = i+1\n",
    "                    while i<len(word)-2 and word[i] not in vowels_limited:\n",
    "                        i = i+1\n",
    "                    sec_vowel = word[i]\n",
    "                    if sec_vowel == shva:\n",
    "                        word = word[:index]+vowel[20]+word[index:]\n",
    "    return word"
   ]
  },
  {
   "cell_type": "code",
   "execution_count": 25,
   "metadata": {},
   "outputs": [],
   "source": [
    "def kamatz_katan(paragraph):\n",
    "    #This goes through the list of common words with kamatz katan (besides \"kol\")\n",
    "    #and corrects them if they are present.\n",
    "    #This list can be added to as needed.\n",
    "    par_list = paragraph.split()\n",
    "    \n",
    "    #Calls the kamatz_katan_adder for each word in paragraph, if that word has a kamatz at all\n",
    "    for index in range(len(par_list)):\n",
    "        if vowel[8] in par_list[index]:\n",
    "            par_list[index] = kamatz_katan_adder(par_list[index])\n",
    "    paragraph = ' '.join(par_list)\n",
    "    return paragraph  "
   ]
  },
  {
   "cell_type": "markdown",
   "metadata": {},
   "source": [
    "## Swaps chataf-patach to shva"
   ]
  },
  {
   "cell_type": "code",
   "execution_count": 26,
   "metadata": {},
   "outputs": [],
   "source": [
    "#this changes chataf-patach to shva when there's different conventions to when chataf-patach.\n",
    "#this script finds chataf-patach not under gutteral letters, and changes it to a shva\n",
    "def chataf_shva_swapper(word):\n",
    "    chataf_patach = 'ֲ'\n",
    "    if chataf_patach in word:\n",
    "        for index in range(1,len(word)-3):\n",
    "            i = index\n",
    "            if word[index] != chataf_patach:\n",
    "                continue\n",
    "\n",
    "            while word[i] not in aleph_bet:\n",
    "                i = i-1\n",
    "            previous_consonant = word[i]\n",
    "            if previous_consonant in gutterals[0:4]+gutterals[6:7]:\n",
    "                continue\n",
    "            else:\n",
    "                word = word[:index]+shva+word[index+1:]\n",
    "    return word"
   ]
  },
  {
   "cell_type": "code",
   "execution_count": 27,
   "metadata": {},
   "outputs": [],
   "source": [
    "#Calls the shva_na_function for each word in the input paragraph\n",
    "def chataf_converter(paragraph):\n",
    "    par_list = paragraph.split()\n",
    "    for word in par_list:\n",
    "        index = par_list.index(word)\n",
    "        par_list[index] = chataf_shva_swapper(word)\n",
    "    new_par = ' '.join(par_list)\n",
    "    return new_par"
   ]
  },
  {
   "cell_type": "markdown",
   "metadata": {},
   "source": [
    "## Marks shva na'"
   ]
  },
  {
   "cell_type": "code",
   "execution_count": 28,
   "metadata": {},
   "outputs": [],
   "source": [
    "#defines how shva is marked\n",
    "mark = rafe\n",
    "#mark = dot"
   ]
  },
  {
   "cell_type": "code",
   "execution_count": 29,
   "metadata": {},
   "outputs": [],
   "source": [
    "#Inserts the marker to mark a shva na'\n",
    "def na_marker(paragraph,index):\n",
    "    if paragraph[index-1] == mark or paragraph[index+1] == mark or paragraph[index+2] == mark or paragraph[index-2]==mark:\n",
    "        return paragraph\n",
    "        #does nothing, if the shva is already marked with a rafe\n",
    "    else:\n",
    "        par_start = paragraph[:index]\n",
    "        par_end = paragraph[index:]\n",
    "        new_par = par_start+mark+par_end\n",
    "        return new_par\n",
    "        #adds a rafe over the input letter"
   ]
  },
  {
   "cell_type": "code",
   "execution_count": 30,
   "metadata": {},
   "outputs": [],
   "source": [
    "def long_vowel_checker(word,i,index):\n",
    "    previous_vowel = word[i]\n",
    "    while word[i] not in aleph_bet:\n",
    "        i = i-1\n",
    "    word_sec = word[i:index]\n",
    "    #if there's no trop and the previous syllable has a meteg, it's a long vowel with primary stress and the shva is nach\n",
    "    if any(trop in cant2 for trop in word)==False and meteg in word_sec:\n",
    "        return False\n",
    "    trop_count = 0\n",
    "    for char in word:\n",
    "        if char in cant2:\n",
    "            trop_count = trop_count+1\n",
    "    #if there's 2 trops and 1 is on the previous syllable, the 2nd will be on the last syllable\n",
    "    #therefore the 1st will be a long vowel with secondary stress, and the shva will be na\n",
    "    #and this second trope will be on the last syllable, so the shva following a syllable with a trop will be the first one\n",
    "    #and stress will be secondary, so the shva will be na\n",
    "    if trop_count == 2 and any(trop in cant2 for trop in word_sec)==True:\n",
    "        return True\n",
    "    if trop_count == 2 and any(trop in cant2 for trop in word_sec)==False:\n",
    "        return True\n",
    "    #if there's one trop on the word and it's not on the previous syllable, it's unstressed, and the shva is na\n",
    "    elif trop_count == 1 and any(trop in cant2 for trop in word_sec)==False:\n",
    "        return True\n",
    "    #if there's a trop on the previous syllable, assume it's stressed and nach, but it could be nasog achor and na\n",
    "    #therefore these will be printed for manual checking\n",
    "    elif trop_count == 1 and any(trop in cant2 for trop in word_sec)==True:\n",
    "        bare_word = nonalpha_remover(word)\n",
    "        for element in known_nasog_achor:\n",
    "            if element in bare_word:\n",
    "                return True\n",
    "        for element in known_shva_nach:\n",
    "            if element in bare_word:\n",
    "                return True\n",
    "        print('Check shva in',word,'for nasog achor')\n",
    "        return False\n",
    "    elif trop_count == 0 and meteg not in word_sec:\n",
    "        return True\n",
    "    else:\n",
    "        print('Check shva in',word)"
   ]
  },
  {
   "cell_type": "code",
   "execution_count": 31,
   "metadata": {},
   "outputs": [],
   "source": [
    "#Determines what shvas are na' in a word, and calls the program to mark them\n",
    "def shva_na_function(word):\n",
    "    nt_word = trop_remover(word)\n",
    "    #this skips instances of shem hashem\n",
    "    if shem_vowels in nt_word or yy_vowels in nt_word:\n",
    "        return word\n",
    "    for excep in shva_exceptions:\n",
    "        if excep in nt_word:\n",
    "            return word\n",
    "    if shva not in word:\n",
    "        return word\n",
    "    start = 1\n",
    "    ha_meteg = 'הַֽ'\n",
    "    shuruk_meteg = 'וּֽ'\n",
    "    if word[0:3] == ha_meteg or word[0:3] == shuruk_meteg:\n",
    "        shva_loc = word.find(shva)\n",
    "        word = na_marker(word,shva_loc)\n",
    "        start = shva_loc+1\n",
    "    \n",
    "    for index in range(start,len(word)-2):\n",
    "        i = index\n",
    "        if word[index] != shva:\n",
    "            continue\n",
    "            #this doesn't bother with the loop if the letter isn't a shva\n",
    "        if word[i+1] not in all_char:\n",
    "            break\n",
    "        while word[i] not in aleph_bet or word[i]== dagesh:\n",
    "            i = i-1\n",
    "        previous_consonant = word[i]\n",
    "        #if the previous consonant is the beginning of the word, the shva is na'\n",
    "        if i == 0:\n",
    "            word = na_marker(word,index)\n",
    "            continue\n",
    "        if word[i-1] not in all_char:\n",
    "            word = na_marker(word,index)\n",
    "            continue\n",
    "        \n",
    "        if word[i-1] == maqqaf:\n",
    "            word = na_marker(word,index)\n",
    "        #if the previous consonant has a dagesh, the shva must be na'\n",
    "        if previous_consonant in letter_with_dagesh:\n",
    "            word = na_marker(word,index)\n",
    "            continue\n",
    "        if word[i+1] == dagesh or word[index+1] == dagesh:\n",
    "            word = na_marker(word,index)\n",
    "            continue\n",
    "            \n",
    "        #determines the next consonant\n",
    "        i = index + 1\n",
    "        while word[i] not in aleph_bet and i<len(word)-1:\n",
    "            i = i+1\n",
    "        next_consonant = word[i]\n",
    "        if next_consonant == previous_consonant:\n",
    "            word = na_marker(word,index)\n",
    "            continue\n",
    "        i=0\n",
    "        while i<5:\n",
    "            if word[index]==letters_w_final[i] and next_consonant == final_letter[i]:\n",
    "                word = na_marker(word,index)\n",
    "                continue   \n",
    "            i=i+1\n",
    "\n",
    "        #determines the previous vowel\n",
    "        i = index-2\n",
    "        while word[i] not in vowels_limited and i>0:\n",
    "            i = i-1\n",
    "        if i == 0:\n",
    "            continue\n",
    "        else:\n",
    "            previous_vowel = word[i]\n",
    "            #if the previous vowel is a shva, the current shva is na'\n",
    "            if previous_vowel == shva:\n",
    "                word = na_marker(word,index)\n",
    "                continue\n",
    "            if previous_vowel in long_vowels and long_vowel_checker(word,i,index)==True:\n",
    "                word = na_marker(word,index)   \n",
    "        \n",
    "        #a shva following a long vowel is na', unless the long vowel is word-initial shuruk\n",
    "   \n",
    "\n",
    "    #figure out plan for סקינמלוי letters after הַ־ without dagesh\n",
    "    #figure out plan for letters following shuruk with meteg\n",
    "    #for now, neither of these get a shva na\n",
    "    return word"
   ]
  },
  {
   "cell_type": "code",
   "execution_count": 32,
   "metadata": {},
   "outputs": [],
   "source": [
    "#Calls the shva_na_function for each word in the input paragraph\n",
    "def shva_na_converter(paragraph):\n",
    "    par_list = paragraph.split()\n",
    "    for word in par_list:\n",
    "        index = par_list.index(word)\n",
    "        par_list[index] = shva_na_function(word)\n",
    "    new_par = ' '.join(par_list)\n",
    "    return new_par"
   ]
  },
  {
   "cell_type": "code",
   "execution_count": 33,
   "metadata": {},
   "outputs": [
    {
     "data": {
      "text/plain": [
       "'אֵ֖ת יְיָ֣ אֱלֹהֶ֑יךָ בְּֿכׇל־לְֿבָבְךָ֥ וּבְכׇל־נַפְשְֿׁךָ֖ וּבְכׇל־מְֿאֹדֶֽךָ׃'"
      ]
     },
     "execution_count": 33,
     "metadata": {},
     "output_type": "execute_result"
    }
   ],
   "source": [
    "test = 'אֵ֖ת יְיָ֣ אֱלֹהֶ֑יךָ בְּכׇל־לְבָבְךָ֥ וּבְכׇל־נַפְשְׁךָ֖ וּבְכׇל־מְאֹדֶֽךָ׃'\n",
    "shva_na_converter(test)"
   ]
  },
  {
   "cell_type": "markdown",
   "metadata": {},
   "source": [
    "## Changes shva marking character"
   ]
  },
  {
   "cell_type": "code",
   "execution_count": 34,
   "metadata": {},
   "outputs": [],
   "source": [
    "#this program allows the changing of all rafes used to mark shva into another character\n",
    "#in this case a circle above the letter\n",
    "#this could be adapted to change a text that uses the dot to using something else\n",
    "def shva_na_mark_changer(paragraph):\n",
    "    paragraph = paragraph.replace(rafe,'')\n",
    "    paragraph = paragraph.replace(dot,'')\n",
    "    return paragraph\n",
    "    #return new_paragraph"
   ]
  },
  {
   "cell_type": "markdown",
   "metadata": {},
   "source": [
    "## Changes colons to silluk"
   ]
  },
  {
   "cell_type": "code",
   "execution_count": 35,
   "metadata": {},
   "outputs": [],
   "source": [
    "def colon_changer(line):\n",
    "    #this avoids changing colons in instructions to silluk, as these should remain colons\n",
    "    if 'instruction' in line:\n",
    "        return line\n",
    "    else:\n",
    "        return line.replace(colon,silluq)"
   ]
  },
  {
   "cell_type": "markdown",
   "metadata": {},
   "source": [
    "## Fixes mistakes"
   ]
  },
  {
   "cell_type": "code",
   "execution_count": 36,
   "metadata": {},
   "outputs": [],
   "source": [
    "def mistake_fixer(paragraph):\n",
    "    badkamatz1 = vowel[8] + vowel[20]\n",
    "    badkamatz2 = vowel[20] + vowel[8]\n",
    "    badkamatz3 = vowel[20]+vowel[20]\n",
    "    \n",
    "    baddot = dot+dot\n",
    "    baddot2 = dot+shva+dagesh+dot\n",
    "    baddot3 = 'ְּׁ֯֯'\n",
    "    fixdot3 = baddot3[1:6]\n",
    "    baddot4 = 'ְׁ֯֯'\n",
    "    fixdot4 = 'ְׁ֯'\n",
    "    \n",
    "    badrafe = rafe+rafe\n",
    "    badrafe2 = rafe+shva+dagesh+rafe\n",
    "    badrafe3 = baddot3.replace(rafe,dot)\n",
    "    fixrafe3 = fixdot3.replace(rafe,dot)\n",
    "    badrafe4 = baddot4.replace(rafe,dot)\n",
    "    fixrafe4 = fixdot4.replace(rafe,dot)\n",
    "    \n",
    "    if vowel[5] in paragraph or vowel[2] in paragraph:\n",
    "        paragraph = paragraph.replace(badkamatz1,vowel[20])\n",
    "        paragraph = paragraph.replace(badkamatz2,vowel[20])\n",
    "        paragraph = paragraph.replace(badkamatz3,vowel[20])\n",
    "    \n",
    "    if dot in paragraph:\n",
    "        paragraph = paragraph.replace(baddot,dot)\n",
    "        paragraph = paragraph.replace(baddot2,dagesh+shva+dot)\n",
    "        paragraph = paragraph.replace(baddot3,fixdot3)\n",
    "        paragraph = paragraph.replace(baddot4,fixdot4)\n",
    "    \n",
    "    if rafe in paragraph:\n",
    "        paragraph = paragraph.replace(badrafe,rafe)   \n",
    "        paragraph = paragraph.replace(badrafe2,dagesh+shva+dot)\n",
    "        paragraph = paragraph.replace(badrafe4,fixrafe4)\n",
    "        \n",
    "    return paragraph"
   ]
  },
  {
   "cell_type": "markdown",
   "metadata": {},
   "source": [
    "## Runs Paragraph through all converters"
   ]
  },
  {
   "cell_type": "code",
   "execution_count": 37,
   "metadata": {},
   "outputs": [],
   "source": [
    "def text_fixer(paragraph):\n",
    "    #Comment out components of the script you don't want to run\n",
    "    paragraph = shva_mark_remover(paragraph)\n",
    "    #functions that only are needed for what's not copied from MAPM:\n",
    "    if any(trop in cant2 for trop in paragraph)==False:\n",
    "        paragraph = kol_kamatz_katan(paragraph)\n",
    "        paragraph = et_fixer(paragraph)\n",
    "        paragraph = kamatz_katan(paragraph)\n",
    "        paragraph = chataf_converter(paragraph)\n",
    "    paragraph = mistake_fixer(paragraph)\n",
    "    return paragraph"
   ]
  },
  {
   "cell_type": "code",
   "execution_count": 38,
   "metadata": {},
   "outputs": [],
   "source": [
    "def text_converter(paragraph):\n",
    "    #Comment out components of the script you don't want to run\n",
    "    #paragraph = text_fixer(paragraph)\n",
    "    #paragraph = convert_shem(paragraph) \n",
    "    paragraph = shva_na_converter(paragraph)\n",
    "    #paragraph = colon_changer(paragraph)\n",
    "    #paragraph = shva_na_mark_changer(paragraph\n",
    "    return paragraph"
   ]
  },
  {
   "cell_type": "code",
   "execution_count": 44,
   "metadata": {},
   "outputs": [
    {
     "data": {
      "text/plain": [
       "'לַֽייָ֥ הַיְשׁוּעָ֑ה עַֽל־עַמְּךָ֖ בִרְכָתֶ֣ךָ סֶּֽלָה׃'"
      ]
     },
     "execution_count": 44,
     "metadata": {},
     "output_type": "execute_result"
    }
   ],
   "source": [
    "test = 'לַֽיהֹוָ֥ה הַיְשׁוּעָ֑ה עַֽל־עַמְּךָ֖ בִרְכָתֶ֣ךָ סֶּֽלָה׃ '\n",
    "convert_shem(test)"
   ]
  },
  {
   "cell_type": "markdown",
   "metadata": {},
   "source": [
    "\n",
    "## Missing bracket finder"
   ]
  },
  {
   "cell_type": "code",
   "execution_count": 39,
   "metadata": {},
   "outputs": [],
   "source": [
    "def bracket_counter(line):\n",
    "    open_brace_count = line.count('{')\n",
    "    close_brace_count = line.count('}')\n",
    "    output = [open_brace_count,close_brace_count]\n",
    "    return output"
   ]
  },
  {
   "cell_type": "markdown",
   "metadata": {},
   "source": [
    "## Kamatz-check list"
   ]
  },
  {
   "cell_type": "code",
   "execution_count": 40,
   "metadata": {},
   "outputs": [],
   "source": [
    "known_kamatz_gadol = ['ברכ','עלמ','קרבינו','היתה','בּרכ','דעסקין','משרתיו','ואמרו','ואמרין','הלכו']"
   ]
  },
  {
   "cell_type": "code",
   "execution_count": 41,
   "metadata": {},
   "outputs": [],
   "source": [
    "#This outputs a list of lines and words that have ambiguous kamatz cases\n",
    "#These are words with a kamatz that isn't marked katan followed by a shva\n",
    "#Once the list is output the user can manually go through the list, find words that need a kamatz katan, and make the change\n",
    "def kamatz_inspector(word):\n",
    "    i=1 #since a word can't start with a kamatz\n",
    "    length = len(word)\n",
    "    nv_word = nonalpha_remover(word)\n",
    "    #skips words with cantillation, since they'll get a kamatz katan with verse re-copying\n",
    "    for stem in known_kamatz_gadol:\n",
    "        if stem in nv_word:\n",
    "            return False\n",
    "\n",
    "    while i<len(word)-6:\n",
    "        if word[i]==vowel[8]:\n",
    "            index=i+2\n",
    "            while word[index] not in vowels_limited and index<len(word)-2:\n",
    "                index=index+1\n",
    "            next_vowel=word[index]\n",
    "            if next_vowel==shva and word[i+1] != meteg and word[index-1] not in final_letters:\n",
    "                return True\n",
    "        i=i+1\n",
    "    return False       "
   ]
  },
  {
   "cell_type": "code",
   "execution_count": 42,
   "metadata": {},
   "outputs": [],
   "source": [
    "def kamatz_finder(line,number):\n",
    "    par_list = line.split()\n",
    "    output = []\n",
    "    #skips words with trop, since pesukim will get their kamatzes re-copied anyway\n",
    "    if any(trop in cant2 for trop in line):\n",
    "        return\n",
    "    for word in par_list:\n",
    "        if shva in word and 'ָ' in word and kamatz_inspector(word)==True:\n",
    "            output.append(shva_mark_remover(word))\n",
    "    if output != []:\n",
    "        print(output,'in line', number)  "
   ]
  },
  {
   "cell_type": "markdown",
   "metadata": {},
   "source": [
    "## Reading file from disk"
   ]
  },
  {
   "cell_type": "code",
   "execution_count": 42,
   "metadata": {},
   "outputs": [],
   "source": [
    "input_file = 'siddur.tex'"
   ]
  },
  {
   "cell_type": "code",
   "execution_count": 43,
   "metadata": {},
   "outputs": [],
   "source": [
    "with open(input_file, 'r', encoding='utf-8') as infile:\n",
    "    lines = list(infile.readlines())"
   ]
  },
  {
   "cell_type": "code",
   "execution_count": 44,
   "metadata": {
    "scrolled": true
   },
   "outputs": [
    {
     "name": "stdout",
     "output_type": "stream",
     "text": [
      "Check shva in יִשָּׂא֑וּנְךָ for nasog achor\n",
      "['מְעָרְבִין', 'אָמְרָה:'] in line 417\n",
      "Check shva in וֶ֝אֱמ֥וּנָתְךָ֗\n",
      "Check shva in וְֿכׇל־שֹׁ֥פְטֵי for nasog achor\n",
      "Check shva in גָּאָ֑לְתָּ for nasog achor\n",
      "['הַמְבֹרָךְ׃}\\\\end{Large}'] in line 1036\n",
      "['מְשָׁרְתִים', 'מְשָׁרְתָיו'] in line 1067\n",
      "['וְאָמְרוּ׃'] in line 1173\n",
      "['וְקָרְבֵֽנוּ'] in line 1276\n",
      "['כְּשֶׁעָמְדָה', 'הָרְשָׁעָה'] in line 1425\n",
      "['אָבְדָה'] in line 1741\n",
      "['הַמְבֹרָךְ׃}\\\\\\\\'] in line 1899\n",
      "Check shva in וְֿיֹ֣שְׁבֵי for nasog achor\n",
      "Check shva in כׇּל־יֹ֥שְׁבֵי for nasog achor\n",
      "['כְּשֶׁעָמְדָה', 'הָרְשָׁעָה'] in line 2494\n",
      "['כׇּל־צָרְכָּנָא,'] in line 2742\n",
      "Check shva in כׇּל־עֹ֬בְדֵי for nasog achor\n",
      "Check shva in וְֿיֹ֣שְׁבֵי for nasog achor\n",
      "['וּמְעָרְבִין'] in line 2946\n",
      "['כְּשֶׁעָמְדָה', 'הָרְשָׁעָה'] in line 3125\n",
      "Check shva in דָּ֭רְשָׁה for nasog achor\n",
      "Check shva in נָ֣טְעָה for nasog achor\n",
      "Check shva in תָּ֣מְכוּ for nasog achor\n",
      "Check shva in עָ֭שְׂתָה for nasog achor\n",
      "Check shva in לִמְנוּחָ֑יְכִי for nasog achor\n",
      "Check shva in וֶ֝אֱמ֥וּנָתְךָ֗\n",
      "['שֶׁהָלְכָה'] in line 3991\n",
      "['דְּעָסְקִין', 'אָרְכָה', 'וְיִתְפָּרְקוּן'] in line 4010\n",
      "['יָתְכוֹן', 'אָרְכָה', 'וְתִתְפָּרְקוּן'] in line 4015\n",
      "['נָשְׂאָה'] in line 4052\n",
      "['נָשְׂאָה'] in line 4058\n",
      "['נָשְׂאָה'] in line 4064\n",
      "['מְשָׁרְתָיו'] in line 4127\n",
      "['חָרְבָה'] in line 4205\n",
      "Check shva in וְֿיֹ֣שְׁבֵי for nasog achor\n",
      "['בָּרְבִיעִי'] in line 4263\n",
      "['חָמְדָה'] in line 4293\n",
      "['לָיְלָה׃'] in line 4326\n",
      "['יָקְרוּ'] in line 4347\n",
      "['בְּדָרְכוֹ'] in line 4353\n",
      "['קָרְבָּנֶיךָ׃'] in line 4371\n",
      "['מְשָׁרְתָיו'] in line 4436\n",
      "['גָּדְלֶֽךָ'] in line 4465\n",
      "['בָּרְהָטִים'] in line 4814\n",
      "['דָּמְתָה'] in line 4982\n",
      "['אָרְנָן׃'] in line 4991\n",
      "['מִסָּלְעָם׃'] in line 5000\n",
      "['בְּנָסְעָם'] in line 5052\n",
      "['גָּדְלָךְ'] in line 5091\n",
      "['דָּמְתָה'] in line 5118\n",
      "['וְקָרְמָה׃', 'לְעָצְמָה׃', 'לְגָשְׁמָה׃', 'לְזָרְמָה׃'] in line 5123\n",
      "['שָׁקְעָה', 'וְיָרְדָה'] in line 5130\n",
      "['כְּהִשָּׁבְעָךְ'] in line 5211\n",
      "['לְדָמְתָה'] in line 5255\n",
      "['מִדָּלְיָו'] in line 5259\n",
      "['בְּלָקְקָם'] in line 5272\n",
      "['יָרְדָה'] in line 5280\n",
      "['וְיָלְדָה'] in line 5363\n",
      "['יָלְדָה'] in line 5368\n",
      "['בָּתְרֵהּ:'] in line 5862\n",
      "['בָּתְרֵהּ:'] in line 5867\n",
      "['בָּתְרֵהּ:'] in line 5871\n",
      "['לְפָרְטָם,'] in line 6123\n",
      "['שָׂבְעָה'] in line 6253\n",
      "['הַיְשׁוּעָה\\\\\\\\נְקֹם', 'הָרְשָׁעָה\\\\\\\\'] in line 6269\n",
      "['אָרְכָה', 'הָרָעָה\\\\\\\\בְּצֵל'] in line 6270\n",
      "Check shva in וְֿשָׂבָ֑עְתָּ for nasog achor\n",
      "['וְהָרְחָבָה'] in line 6591\n"
     ]
    }
   ],
   "source": [
    "new_lines = []\n",
    "line_number = 1\n",
    "for line in lines:\n",
    "    new_line = text_converter(line)\n",
    "    new_lines.append(new_line)\n",
    "    #for troubleshooting--identifies the last line where the script ran\n",
    "    #print('line number', line_number, 'outputted successfully')\n",
    "    \n",
    "    \n",
    "    if bracket_counter(line) != bracket_counter(new_line):\n",
    "        print('Check brackets in line ',line_number)\n",
    "    \n",
    "    kamatz_finder(new_line,line_number) \n",
    "    \n",
    "    line_number=line_number+1\n",
    "    "
   ]
  },
  {
   "cell_type": "code",
   "execution_count": 45,
   "metadata": {},
   "outputs": [],
   "source": [
    "output_file = 'siddur_script.tex'"
   ]
  },
  {
   "cell_type": "code",
   "execution_count": 46,
   "metadata": {},
   "outputs": [],
   "source": [
    "with open(output_file, 'w', encoding='utf-8') as outfile:\n",
    "    for line in new_lines:\n",
    "        if line != '':\n",
    "            if line[-1] != '\\n':\n",
    "                outfile.write(line + '\\n')\n",
    "            else:\n",
    "                outfile.write(line)\n",
    "        else:\n",
    "            outfile.write('\\n')"
   ]
  },
  {
   "cell_type": "code",
   "execution_count": null,
   "metadata": {},
   "outputs": [],
   "source": []
  }
 ],
 "metadata": {
  "kernelspec": {
   "display_name": "Python 3",
   "language": "python",
   "name": "python3"
  },
  "language_info": {
   "codemirror_mode": {
    "name": "ipython",
    "version": 3
   },
   "file_extension": ".py",
   "mimetype": "text/x-python",
   "name": "python",
   "nbconvert_exporter": "python",
   "pygments_lexer": "ipython3",
   "version": "3.7.4"
  }
 },
 "nbformat": 4,
 "nbformat_minor": 2
}
