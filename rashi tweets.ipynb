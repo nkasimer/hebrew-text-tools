{
 "cells": [
  {
   "cell_type": "code",
   "execution_count": 7,
   "metadata": {},
   "outputs": [],
   "source": [
    "import json, urllib"
   ]
  },
  {
   "cell_type": "code",
   "execution_count": 2,
   "metadata": {},
   "outputs": [],
   "source": [
    "def textimporter(link):\n",
    "    with urllib.request.urlopen(link) as url:\n",
    "        sefariaresult = json.loads(url.read().decode())[\"text\"]\n",
    "    return sefariaresult"
   ]
  },
  {
   "cell_type": "code",
   "execution_count": 3,
   "metadata": {},
   "outputs": [],
   "source": [
    "def rashicounter(text):\n",
    "    lengths = []\n",
    "    for chap in text:\n",
    "        for vs in chap:\n",
    "            for comment in vs:\n",
    "                comment = removeformatting(comment)\n",
    "                comment = nonalpha_remover(comment)\n",
    "                lengths.append(len(comment))\n",
    "    return lengths"
   ]
  },
  {
   "cell_type": "code",
   "execution_count": 22,
   "metadata": {},
   "outputs": [],
   "source": [
    "def removeformatting(text): #removes all formatting statements in <>\n",
    "    while \"<\" in text and \">\" in text:\n",
    "        loc1 = text.find(\"<\")\n",
    "        loc2 = text.find(\">\",loc1)+1\n",
    "        text = text.replace(text[loc1:loc2],\"\")\n",
    "    while \"(\" in text and \")\" in text:\n",
    "        loc1 = text.find(\"(\")\n",
    "        loc2 = text.find(\")\",loc1)+1\n",
    "        text = text.replace(text[loc1:loc2],\"\")\n",
    "    return text"
   ]
  },
  {
   "cell_type": "code",
   "execution_count": 5,
   "metadata": {},
   "outputs": [],
   "source": [
    "def nonalpha_remover(word):\n",
    "    no_cant_word = ''\n",
    "    for letter in word:\n",
    "        if letter.isalpha() == True or letter == \" \":\n",
    "            no_cant_word = no_cant_word + letter\n",
    "    return no_cant_word"
   ]
  },
  {
   "cell_type": "code",
   "execution_count": 16,
   "metadata": {},
   "outputs": [],
   "source": [
    "def tweetcounter(lengths):\n",
    "    tweetable = 0\n",
    "    for value in lengths:\n",
    "        if value <= 280:\n",
    "            tweetable += 1\n",
    "    return tweetable / len(lengths)"
   ]
  },
  {
   "cell_type": "code",
   "execution_count": 23,
   "metadata": {},
   "outputs": [
    {
     "data": {
      "text/plain": [
       "0.9552461461959224"
      ]
     },
     "execution_count": 23,
     "metadata": {},
     "output_type": "execute_result"
    }
   ],
   "source": [
    "test = textimporter(\"https://raw.githubusercontent.com/Sefaria/Sefaria-Export/master/json/Tanakh/Commentary/Rashi/Torah/Rashi%20on%20Genesis/Hebrew/Rashi%20Chumash%2C%20Metsudah%20Publications%2C%202009.json\")\n",
    "lengths = rashicounter(test)\n",
    "tweetcounter(lengths)"
   ]
  },
  {
   "cell_type": "code",
   "execution_count": 28,
   "metadata": {},
   "outputs": [
    {
     "data": {
      "text/plain": [
       "0.9872868217054264"
      ]
     },
     "execution_count": 28,
     "metadata": {},
     "output_type": "execute_result"
    }
   ],
   "source": [
    "test = textimporter(\"https://raw.githubusercontent.com/Sefaria/Sefaria-Export/master/json/Talmud/Bavli/Commentary/Rashi/Seder%20Zeraim/Rashi%20on%20Berakhot/Hebrew/Vilna%20Edition.json\")\n",
    "lengths = rashicounter(test)\n",
    "tweetcounter(lengths)"
   ]
  },
  {
   "cell_type": "code",
   "execution_count": 29,
   "metadata": {},
   "outputs": [
    {
     "data": {
      "text/plain": [
       "0.9735728177554056"
      ]
     },
     "execution_count": 29,
     "metadata": {},
     "output_type": "execute_result"
    }
   ],
   "source": [
    "test = textimporter(\"https://raw.githubusercontent.com/Sefaria/Sefaria-Export/master/json/Talmud/Bavli/Commentary/Rashi/Seder%20Moed/Rashi%20on%20Shabbat/Hebrew/Vilna%20Edition.json\")\n",
    "lengths = rashicounter(test)\n",
    "tweetcounter(lengths)"
   ]
  },
  {
   "cell_type": "code",
   "execution_count": 32,
   "metadata": {},
   "outputs": [
    {
     "name": "stdout",
     "output_type": "stream",
     "text": [
      "https://raw.githubusercontent.com/Sefaria/Sefaria-Export/master/json/Talmud/Bavli/Commentary/Rashi/Seder%20Nezikin/Rashi%20on%20Bava%20Kamma/Hebrew/Vilna%20Edition.json\n"
     ]
    },
    {
     "data": {
      "text/plain": [
       "0.966282722513089"
      ]
     },
     "execution_count": 32,
     "metadata": {},
     "output_type": "execute_result"
    }
   ],
   "source": [
    "link = \"https://raw.githubusercontent.com/Sefaria/Sefaria-Export/master/json/Talmud/Bavli/Commentary/Rashi/Seder%20Nezikin/Rashi%20on%20Bava%20Kamma/Hebrew/Vilna%20Edition.json\"\n",
    "print(link)\n",
    "test = textimporter(link)\n",
    "lengths = rashicounter(test)\n",
    "tweetcounter(lengths)"
   ]
  },
  {
   "cell_type": "code",
   "execution_count": 34,
   "metadata": {},
   "outputs": [
    {
     "data": {
      "text/plain": [
       "0.9615269907545482"
      ]
     },
     "execution_count": 34,
     "metadata": {},
     "output_type": "execute_result"
    }
   ],
   "source": [
    "link = \"https://raw.githubusercontent.com/Sefaria/Sefaria-Export/master/json/Talmud/Bavli/Commentary/Rashi/Seder%20Tahorot/Rashi%20on%20Niddah/Hebrew/Vilna%20Edition.json\"\n",
    "test = textimporter(link)\n",
    "lengths = rashicounter(test)\n",
    "tweetcounter(lengths)"
   ]
  },
  {
   "cell_type": "code",
   "execution_count": 35,
   "metadata": {},
   "outputs": [
    {
     "data": {
      "text/plain": [
       "0.9708661417322835"
      ]
     },
     "execution_count": 35,
     "metadata": {},
     "output_type": "execute_result"
    }
   ],
   "source": [
    "link = \"https://raw.githubusercontent.com/Sefaria/Sefaria-Export/master/json/Talmud/Bavli/Commentary/Rashi/Seder%20Nashim/Rashi%20on%20Ketubot/Hebrew/Vilna%20Edition.json\"\n",
    "test = textimporter(link)\n",
    "lengths = rashicounter(test)\n",
    "tweetcounter(lengths)"
   ]
  },
  {
   "cell_type": "code",
   "execution_count": 36,
   "metadata": {},
   "outputs": [
    {
     "data": {
      "text/plain": [
       "0.9471332836932241"
      ]
     },
     "execution_count": 36,
     "metadata": {},
     "output_type": "execute_result"
    }
   ],
   "source": [
    "link = \"https://raw.githubusercontent.com/Sefaria/Sefaria-Export/master/json/Talmud/Bavli/Commentary/Rashi/Seder%20Kodashim/Rashi%20on%20Keritot/Hebrew/Vilna%20Edition.json\"\n",
    "test = textimporter(link)\n",
    "lengths = rashicounter(test)\n",
    "tweetcounter(lengths)"
   ]
  },
  {
   "cell_type": "code",
   "execution_count": null,
   "metadata": {},
   "outputs": [],
   "source": []
  }
 ],
 "metadata": {
  "kernelspec": {
   "display_name": "Python 3",
   "language": "python",
   "name": "python3"
  },
  "language_info": {
   "codemirror_mode": {
    "name": "ipython",
    "version": 3
   },
   "file_extension": ".py",
   "mimetype": "text/x-python",
   "name": "python",
   "nbconvert_exporter": "python",
   "pygments_lexer": "ipython3",
   "version": "3.7.4"
  }
 },
 "nbformat": 4,
 "nbformat_minor": 2
}
