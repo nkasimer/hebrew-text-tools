{
 "cells": [
  {
   "cell_type": "code",
   "execution_count": 3,
   "metadata": {},
   "outputs": [],
   "source": [
    "import json, urllib, csv\n",
    "with urllib.request.urlopen(\"https://raw.githubusercontent.com/hebcal/hebcal-leyning/master/src/aliyot.json\") as url:\n",
    "    aliyot = json.loads(url.read().decode())"
   ]
  },
  {
   "cell_type": "code",
   "execution_count": 40,
   "metadata": {},
   "outputs": [],
   "source": [
    "def find_parsha(book,chap,vs,parshiyot):\n",
    "    book = int(book)\n",
    "    chap = int(chap)\n",
    "    vs = int(vs)\n",
    "    output = []\n",
    "    for parsha in parshiyot.values():\n",
    "        if parsha[\"book\"] != book:\n",
    "            continue\n",
    "        if \"combined\" in parsha.keys():\n",
    "            continue\n",
    "        start = parse_chapvs(parsha[\"fullkriyah\"][\"1\"][\"b\"])\n",
    "        end = parse_chapvs(parsha[\"fullkriyah\"][\"7\"][\"e\"])\n",
    "        if vs == \"\" or vs == None:\n",
    "            if start[0]<=chap<=end[0]:\n",
    "                output.append(parsha[\"hebrew\"])\n",
    "        elif start[0]<chap<end[0]:\n",
    "            output.append(parsha[\"hebrew\"])\n",
    "        elif start[0] == chap:\n",
    "            if start[1] <= vs:\n",
    "                output.append(parsha[\"hebrew\"])\n",
    "        elif end[0] == chap:\n",
    "            if end[1] >= vs:\n",
    "                output.append(parsha[\"hebrew\"])\n",
    "    return output"
   ]
  },
  {
   "cell_type": "code",
   "execution_count": 41,
   "metadata": {},
   "outputs": [],
   "source": [
    "def parse_chapvs(string):\n",
    "    chap_vs = string.split(\":\")\n",
    "    chap = int(chap_vs[0])\n",
    "    vs = int(chap_vs[1])\n",
    "    return [chap,vs]"
   ]
  },
  {
   "cell_type": "code",
   "execution_count": 42,
   "metadata": {},
   "outputs": [
    {
     "name": "stdout",
     "output_type": "stream",
     "text": [
      "Enter the book of the Torah as a number (Genesis=1, Exodus=2, etc)2\n",
      "Enter the chapter38\n",
      "Enter the verse number. If you'd like to see a whole chapter, leave this blank.1\n",
      "The selected portion is in the following pararsha: וַיַּקְהֵל\n"
     ]
    }
   ],
   "source": [
    "book = input(\"Enter the book of the Torah as a number (Genesis=1, Exodus=2, etc) \")\n",
    "chapter = input(\"Enter the chapter\")\n",
    "vs = input(\"Enter the verse number. If you'd like to see a whole chapter, leave this blank. \")\n",
    "result = find_parsha(book, chapter, vs, aliyot)\n",
    "for item in result:\n",
    "    print(\"The selected portion is in the following pararsha: \"+item)"
   ]
  },
  {
   "cell_type": "code",
   "execution_count": null,
   "metadata": {},
   "outputs": [],
   "source": []
  }
 ],
 "metadata": {
  "kernelspec": {
   "display_name": "Python 3",
   "language": "python",
   "name": "python3"
  },
  "language_info": {
   "codemirror_mode": {
    "name": "ipython",
    "version": 3
   },
   "file_extension": ".py",
   "mimetype": "text/x-python",
   "name": "python",
   "nbconvert_exporter": "python",
   "pygments_lexer": "ipython3",
   "version": "3.7.4"
  }
 },
 "nbformat": 4,
 "nbformat_minor": 2
}
