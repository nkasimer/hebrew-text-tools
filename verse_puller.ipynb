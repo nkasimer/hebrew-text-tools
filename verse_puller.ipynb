{
 "cells": [
  {
   "cell_type": "code",
   "execution_count": 1,
   "metadata": {},
   "outputs": [],
   "source": [
    "#pulls verses from TaNaKh using the Sefaria API"
   ]
  },
  {
   "cell_type": "code",
   "execution_count": 1,
   "metadata": {},
   "outputs": [],
   "source": [
    "import json, urllib.request"
   ]
  },
  {
   "cell_type": "code",
   "execution_count": 2,
   "metadata": {},
   "outputs": [],
   "source": [
    "aleph_bet = ['א','ב','ג','ד','ה','ו','ז','ח','ט','י','כ','ך','ל','מ','ם',\n",
    "             'נ','ן','ס','ע','פ','ף','צ','ק','ר','ש','ת','װ','ױ','ײ','יִ',\n",
    "             'ﬡ','ﬢ','ﬣ','ﬤ','ﬥ','ﬦ','ﬧ','ﬨ','שׁ','שׂ','שּׁ','שּׂ','אַ','אָ',\n",
    "             'גּ','דּ','הּ','וּ','זּ','טּ','יּ','ךּ','כּ','לּ','מּ','נּ','סּ','ףּ',\n",
    "             'פּ','צּ','שּ','תּ','וֹ','בֿ','כֿ','פֿ','ﭏ','בּ', 'קּ']\n",
    "\n",
    "cant = ['֑','֒','֓','֔','֕','֖','֗','֘','֙','֚','֛','֜',\n",
    "             '֝','֞','֠','֡','֢','֣','֤','֥','֦','֧','֨','֩','֪','֫','֬','֭','֯','׃']\n",
    "\n",
    "cant2 = cant[:28]\n",
    "\n",
    "vowel = ['ְ','ֱ','ֲ','ֳ','ִ','ֵ','ֶ','ַ','ָ','ֹ','ֺ','ֻ','ּ','ֽ','־','ֿ','ׁ','ׂ','ׄ','ׅ','ׇ']\n",
    "\n",
    "letter_with_dagesh = ['שּׁ','שּׂ','גּ','דּ','זּ','טּ','יּ','כּ','לּ','מּ','נּ','סּ','פּ','צּ','שּ','תּ','בּ','קּ']\n",
    "rafe = 'ֿ'\n",
    "shva = vowel[0]\n",
    "chataf_vowels = vowel[1:4]\n",
    "short_vowels = [vowel[4],vowel[6],vowel[7],vowel[11],vowel[20]]\n",
    "long_vowels = ['וֹ','וּ', vowel[5], vowel[8], aleph_bet[9], 'ֹ']\n",
    "vowels_limited = vowel[0:4]+short_vowels+long_vowels\n",
    "dagesh = 'ּ'\n",
    "maqqaf = '־'\n",
    "meteg = 'ֽ'\n",
    "dot = '֯'\n",
    "silluq = '׃'\n",
    "colon = ':'\n",
    "other_char = ['ׂ','ׁ','ֿ','֯','ׅ','']\n",
    "all_char = aleph_bet+cant+vowel+other_char\n",
    "\n",
    "special_characters = ['{', '}','\\\\']\n",
    "\n",
    "gutterals = ['א','ה','ח','ע','ר' ,'ﬡ','ﬣ','ﬧ']    "
   ]
  },
  {
   "cell_type": "code",
   "execution_count": 3,
   "metadata": {},
   "outputs": [],
   "source": [
    "letters_w_final = ['כ','מ','נ','פ','צ']\n",
    "final_letters = ['ך','ם','ן','ף','ץ']"
   ]
  },
  {
   "cell_type": "code",
   "execution_count": 4,
   "metadata": {},
   "outputs": [],
   "source": [
    "shem = 'יהוה'\n",
    "shem_vowels = 'יְהֹוָה'\n",
    "yy_vowels = aleph_bet[9]+vowel[0]+aleph_bet[9]+vowel[8]\n",
    "\n",
    "kal_backwards_dagesh = 'כָּל'\n",
    "kal_dagesh = 'כָּל'\n",
    "kal = aleph_bet[52] + vowel[8] + aleph_bet[12]\n",
    "khal = aleph_bet[10] + vowel[8] + aleph_bet[12]\n",
    "kol = aleph_bet[52] + vowel[20] + aleph_bet[12]\n",
    "kol_maqqaf = aleph_bet[52] + vowel[20] + aleph_bet[12] + '־'\n",
    "khol_maqqaf = aleph_bet[10] + vowel[20] + aleph_bet[12] + '־'\n",
    "kol_space = aleph_bet[52] + vowel[20] + aleph_bet[12] + ' '\n",
    "khol_space = aleph_bet[10] + vowel[20] + aleph_bet[12] + ' '\n",
    "\n",
    "et = 'אֶת'\n",
    "ve_et = 'וְאֶת'\n",
    "space_et_space = ' ' + 'אֶת' + ' '\n",
    "space_ve_et_space = ' ' + 'וְאֶת' + ' '\n",
    "et_maqqaf = ' ' + 'אֶת' + '־'\n",
    "ve_et_maqqaf = ' ' + 'וְאֶת' + '־'"
   ]
  },
  {
   "cell_type": "code",
   "execution_count": 5,
   "metadata": {},
   "outputs": [],
   "source": [
    "shva_exceptions = ['שְׁתֵּי','שְׁתָּיִם','שְׁתַּיִם','שְׁנִַים','שְׁנֵי','שְׁתֵּים','שְׁנֵים','שְׁנֵי','שְׁנֵים','שְׁנָיִם']\n",
    "battim = 'בָּתִּים'\n",
    "batteinu = 'בָתֵּֽינוּ'\n",
    "vattim = 'בָתִּים'\n",
    "battei = 'בָּתֵּי'\n",
    "ana = 'אָנָּא'\n",
    "ana2 = 'אָנָּא'\n",
    "ana3 = 'אָנָּא'\n",
    "anah = 'אָנָּה'\n",
    "kamatz_katan_exceptions = [battim, vattim, ana, ana2, ana3, anah, batteinu]\n",
    "known_nasog_achor = ['היתה','אזרו']\n",
    "known_shva_nach = ['לילה']"
   ]
  },
  {
   "cell_type": "code",
   "execution_count": 6,
   "metadata": {},
   "outputs": [],
   "source": [
    "#removes trop and vowels\n",
    "def nonalpha_remover(word):\n",
    "    no_cant_word = ''\n",
    "    for letter in word:\n",
    "        if letter.isalpha() == True:\n",
    "            no_cant_word = no_cant_word + letter\n",
    "    return no_cant_word"
   ]
  },
  {
   "cell_type": "code",
   "execution_count": 7,
   "metadata": {},
   "outputs": [],
   "source": [
    "#removes trop but not vowels\n",
    "def trop_remover(word):\n",
    "    no_cant_word = ''\n",
    "    for letter in word:\n",
    "        if letter not in cant:\n",
    "            no_cant_word = no_cant_word + letter\n",
    "    return no_cant_word"
   ]
  },
  {
   "cell_type": "code",
   "execution_count": 8,
   "metadata": {},
   "outputs": [],
   "source": [
    "#converts the 4-letter shem to double-yod, preserving trop and prefixes\n",
    "\n",
    "def shem_converter(word):\n",
    "    prefix = ''\n",
    "    if word[0] != aleph_bet[9]:\n",
    "        prefix = prefix + word[0]\n",
    "        i = 1\n",
    "        if word[1].isalpha() == False:\n",
    "            prefix = prefix + word[1]\n",
    "            if word[2].isalpha() == False:\n",
    "                prefix = prefix + word[2]\n",
    "    no_prefix_word = word[len(prefix):]\n",
    "\n",
    "    if len(prefix) > 0:\n",
    "        yud1 = aleph_bet[9]\n",
    "    else:\n",
    "        yud1 = aleph_bet[9]+vowel[0]\n",
    "\n",
    "    yud2 = aleph_bet[9]+vowel[8]\n",
    "\n",
    "    cant_marks = []\n",
    "\n",
    "    #finds suffix\n",
    "    suffix = ''\n",
    "    i = -1\n",
    "    while word[i] != aleph_bet[4]:\n",
    "        if word[i] in special_characters:\n",
    "            suffix = word[i] + suffix\n",
    "        i = i-1\n",
    "    \n",
    "    for character in no_prefix_word:\n",
    "        if character in cant:\n",
    "            cant_marks.append(character)  \n",
    "    if len(cant_marks) == 1:\n",
    "        new_shem = prefix + yud1 + yud2 + cant_marks[0] + suffix\n",
    "    elif len(cant_marks) == 2:\n",
    "        new_shem = prefix + yud1 + cant_marks[0] + yud2 + cant_marks[1] + suffix\n",
    "    else:\n",
    "        new_shem = prefix + yud1 + yud2 + suffix\n",
    "\n",
    "    return new_shem"
   ]
  },
  {
   "cell_type": "code",
   "execution_count": 9,
   "metadata": {},
   "outputs": [],
   "source": [
    "#creates paragraph with new shem using function above\n",
    "#this needs to be fixed to stop eating special characters (i.e. brackets, \\)\n",
    "\n",
    "def convert_shem(paragraph):\n",
    "    paragraph = str.replace(paragraph, '־', ' ־ ')\n",
    "    par_list = paragraph.split()\n",
    "    for word in par_list:\n",
    "        index = par_list.index(word)\n",
    "        if shem in nonalpha_remover(word):\n",
    "            double_yud = shem_converter(word)\n",
    "            par_list[index] = double_yud\n",
    "\n",
    "    new_par = ' '.join(par_list)\n",
    "    new_par = str.replace(new_par, ' ־ ','־')\n",
    "    new_par = str.replace(new_par, '׃', '׃')\n",
    "    return new_par"
   ]
  },
  {
   "cell_type": "code",
   "execution_count": 10,
   "metadata": {},
   "outputs": [],
   "source": [
    "def na_marker(paragraph,index, mark):\n",
    "    if paragraph[index-1] == mark or paragraph[index+1] == mark or paragraph[index+2] == mark or paragraph[index-2]==mark:\n",
    "        return paragraph\n",
    "        #does nothing, if the shva is already marked with a rafe\n",
    "    else:\n",
    "        par_start = paragraph[:index]\n",
    "        par_end = paragraph[index:]\n",
    "        new_par = par_start+mark+par_end\n",
    "        return new_par\n",
    "        #adds a rafe over the input letter"
   ]
  },
  {
   "cell_type": "code",
   "execution_count": 11,
   "metadata": {},
   "outputs": [],
   "source": [
    "def long_vowel_checker(word,i,index):\n",
    "    previous_vowel = word[i]\n",
    "    while word[i] not in aleph_bet:\n",
    "        i = i-1\n",
    "    word_sec = word[i:index]\n",
    "    #if there's no trop and the previous syllable has a meteg, it's a long vowel with primary stress and the shva is nach\n",
    "    if any(trop in cant2 for trop in word)==False and meteg in word_sec:\n",
    "        return False\n",
    "    trop_count = 0\n",
    "    for char in word:\n",
    "        if char in cant2:\n",
    "            trop_count = trop_count+1\n",
    "    #if there's 2 trops and 1 is on the previous syllable, the 2nd will be on the last syllable\n",
    "    #therefore the 1st will be a long vowel with secondary stress, and the shva will be na\n",
    "    #and this second trope will be on the last syllable, so the shva following a syllable with a trop will be the first one\n",
    "    #and stress will be secondary, so the shva will be na\n",
    "    if trop_count == 2 and any(trop in cant2 for trop in word_sec)==True:\n",
    "        return True\n",
    "    if trop_count == 2 and any(trop in cant2 for trop in word_sec)==False:\n",
    "        return True\n",
    "    #if there's one trop on the word and it's not on the previous syllable, it's unstressed, and the shva is na\n",
    "    elif trop_count == 1 and any(trop in cant2 for trop in word_sec)==False:\n",
    "        return True\n",
    "    #if there's a trop on the previous syllable, assume it's stressed and nach, but it could be nasog achor and na\n",
    "    #therefore these will be printed for manual checking\n",
    "    elif trop_count == 1 and any(trop in cant2 for trop in word_sec)==True:\n",
    "        bare_word = nonalpha_remover(word)\n",
    "        for element in known_nasog_achor:\n",
    "            if element in bare_word:\n",
    "                return True\n",
    "        for element in known_shva_nach:\n",
    "            if element in bare_word:\n",
    "                return True\n",
    "        print('Check shva in',word,'for nasog achor')\n",
    "        return False\n",
    "    elif trop_count == 0 and meteg not in word_sec:\n",
    "        return True\n",
    "    else:\n",
    "        print('Check shva in',word)"
   ]
  },
  {
   "cell_type": "code",
   "execution_count": 12,
   "metadata": {},
   "outputs": [],
   "source": [
    "#Determines what shvas are na' in a word, and calls the program to mark them\n",
    "def shva_na_function(word, mark):\n",
    "    nt_word = trop_remover(word)\n",
    "    #this skips instances of shem hashem\n",
    "    if shem_vowels in nt_word or yy_vowels in nt_word:\n",
    "        return word\n",
    "    for excep in shva_exceptions:\n",
    "        if excep in nt_word:\n",
    "            return word\n",
    "    if shva not in word:\n",
    "        return word\n",
    "    start = 1\n",
    "    ha_meteg = 'הַֽ'\n",
    "    shuruk_meteg = 'וּֽ'\n",
    "    if word[0:3] == ha_meteg or word[0:3] == shuruk_meteg:\n",
    "        shva_loc = word.find(shva)\n",
    "        word = na_marker(word,shva_loc, mark)\n",
    "        start = shva_loc+1\n",
    "    \n",
    "    for index in range(start,len(word)-2):\n",
    "        i = index\n",
    "        if word[index] != shva:\n",
    "            continue\n",
    "            #this doesn't bother with the loop if the letter isn't a shva\n",
    "        if word[i+1] not in all_char:\n",
    "            break\n",
    "        while word[i] not in aleph_bet or word[i]== dagesh:\n",
    "            i = i-1\n",
    "        previous_consonant = word[i]\n",
    "        #if the previous consonant is the beginning of the word, the shva is na'\n",
    "        if i == 0:\n",
    "            word = na_marker(word,index, mark)\n",
    "            continue\n",
    "        if word[i-1] not in all_char:\n",
    "            word = na_marker(word,index, mark)\n",
    "            continue\n",
    "        \n",
    "        if word[i-1] == maqqaf:\n",
    "            word = na_marker(word,index, mark)\n",
    "        #if the previous consonant has a dagesh, the shva must be na'\n",
    "        if previous_consonant in letter_with_dagesh:\n",
    "            word = na_marker(word,index, mark)\n",
    "            continue\n",
    "        if word[i+1] == dagesh or word[index+1] == dagesh:\n",
    "            word = na_marker(word,index, mark)\n",
    "            continue\n",
    "            \n",
    "        #determines the next consonant\n",
    "        i = index + 1\n",
    "        while word[i] not in aleph_bet and i<len(word)-1:\n",
    "            i = i+1\n",
    "        next_consonant = word[i]\n",
    "        if next_consonant == previous_consonant:\n",
    "            word = na_marker(word,index, mark)\n",
    "            continue\n",
    "        i=0\n",
    "        while i<5:\n",
    "            if word[index]==letters_w_final[i] and next_consonant == final_letter[i]:\n",
    "                word = na_marker(word,index, mark)\n",
    "                continue   \n",
    "            i=i+1\n",
    "\n",
    "        #determines the previous vowel\n",
    "        i = index-2\n",
    "        while word[i] not in vowels_limited and i>0:\n",
    "            i = i-1\n",
    "        if i == 0:\n",
    "            continue\n",
    "        else:\n",
    "            previous_vowel = word[i]\n",
    "            #if the previous vowel is a shva, the current shva is na'\n",
    "            if previous_vowel == shva:\n",
    "                word = na_marker(word,index, mark)\n",
    "                continue\n",
    "            if previous_vowel in long_vowels and long_vowel_checker(word,i,index)==True:\n",
    "                word = na_marker(word,index, mark)   \n",
    "        \n",
    "        #a shva following a long vowel is na', unless the long vowel is word-initial shuruk\n",
    "   \n",
    "\n",
    "    #figure out plan for סקינמלוי letters after הַ־ without dagesh\n",
    "    #figure out plan for letters following shuruk with meteg\n",
    "    #for now, neither of these get a shva na\n",
    "    return word"
   ]
  },
  {
   "cell_type": "code",
   "execution_count": 13,
   "metadata": {},
   "outputs": [],
   "source": [
    "#Calls the shva_na_function for each word in the input paragraph\n",
    "def shva_na_converter(paragraph, mark):\n",
    "    par_list = paragraph.split()\n",
    "    for word in par_list:\n",
    "        index = par_list.index(word)\n",
    "        par_list[index] = shva_na_function(word, mark)\n",
    "    new_par = ' '.join(par_list)\n",
    "    return new_par"
   ]
  },
  {
   "cell_type": "code",
   "execution_count": 154,
   "metadata": {},
   "outputs": [],
   "source": [
    "shortnames = {\n",
    "    \"מלכים א\":\"מ״א\",\n",
    "    \"מלכים ב\":\"מ״ב\",\n",
    "    \"שמואל א\":\"ש״א\",\n",
    "    \"שמואל א\":\"ש״ב\",\n",
    "    \"בראשית\":\"ברא׳\",\n",
    "    \"ישעיהו\":\"ישעיה\",\n",
    "    \"ירמיהו\":\"ירמיה\",\n",
    "    \"יחזקאל\":\"יחזקﭏ\",\n",
    "    \"שיר השירים\":\"שה״ש\",\n",
    "    \"דברי הימים א\":\"דה״א\",\n",
    "    \"דברי הימים ב\":\"דה״ב\"\n",
    "}\n",
    "\n",
    "def shortentitle(title):\n",
    "    for entry in shortnames:\n",
    "        if entry in title:\n",
    "            title = title.replace(entry,shortnames[entry])\n",
    "    if title[-1] == \"׳\":\n",
    "        title = title[0:-1]\n",
    "    if title[-2] == \"״\":\n",
    "        title = title[0:-2]+title[-1]\n",
    "    return title"
   ]
  },
  {
   "cell_type": "code",
   "execution_count": 144,
   "metadata": {},
   "outputs": [],
   "source": [
    "def textpuller(text,version):\n",
    "    link = \"https://www.sefaria.org/api/texts/\"+text+\"?vhe=\"+version+\"&context=0\"\n",
    "    print(link)\n",
    "    with urllib.request.urlopen(link) as url:\n",
    "        sefariaresult = json.loads(url.read().decode())\n",
    "    text = \"\"\n",
    "    if type(sefariaresult[\"he\"])==str:\n",
    "        text = sefariaresult[\"he\"]\n",
    "    elif type(sefariaresult[\"he\"])==list:\n",
    "        for verse in sefariaresult[\"he\"]:\n",
    "            text = text + verse + \" \"\n",
    "    title_he = sefariaresult[\"heSectionRef\"]\n",
    "    return text,title_he\n",
    "\n",
    "#figure out how to deal with formatting"
   ]
  },
  {
   "cell_type": "code",
   "execution_count": 145,
   "metadata": {},
   "outputs": [],
   "source": [
    "def removeformatting(text):\n",
    "    while \"<\" in text and \">\" in text:\n",
    "        loc1 = text.find(\"<\")\n",
    "        loc2 = text.find(\">\",loc1)+1\n",
    "        text = text.replace(text[loc1:loc2],\"\")\n",
    "    return text"
   ]
  },
  {
   "cell_type": "code",
   "execution_count": 146,
   "metadata": {},
   "outputs": [],
   "source": [
    "heversion = \"Miqra_according_to_the_Masorah\""
   ]
  },
  {
   "cell_type": "code",
   "execution_count": 147,
   "metadata": {},
   "outputs": [],
   "source": [
    "def returnparam(maintext,string):\n",
    "    if string not in maintext:\n",
    "        return \n",
    "    loc1 = maintext.find(\"&\"+string+\"=\")\n",
    "    start = maintext.find(\"=\",loc1)+1\n",
    "    end = maintext.find(\"&\",loc1+1)\n",
    "    return maintext[start:end]"
   ]
  },
  {
   "cell_type": "code",
   "execution_count": 148,
   "metadata": {},
   "outputs": [],
   "source": [
    "def TeXcommand(commandname,textname):\n",
    "    sefariaresult = textpuller(textname,heversion)\n",
    "    verses = removeformatting(sefariaresult[0])\n",
    "    title = shortentitle(sefariaresult[1])\n",
    "    \n",
    "    #this converts shem\n",
    "    #you'd add the shva na marking function here if you wanted\n",
    "    verses = convert_shem(verses)\n",
    "    end = verses.rfind(\"׃\")+1\n",
    "    verses = verses[0:end+1]\n",
    "    outputstring = \"\\\\newcommand{\\\\\"+commandname+\"}{%\\n\"\n",
    "    sourcestring = \"\\source{\"+title+\"}\"\n",
    "    first_space = verses.find(\" \")\n",
    "    outputstring += verses[0:first_space]+sourcestring+verses[first_space:-1]\n",
    "    outputstring += \"}\"\n",
    "    return outputstring\n",
    "\n",
    "def TeXtext(textname):\n",
    "    sefariaresult = textpuller(textname,heversion)\n",
    "    verses = removeformatting(sefariaresult[0])\n",
    "    title = shortentitle(sefariaresult[1])\n",
    "    \n",
    "        #this converts shem\n",
    "    #you'd add the shva na marking function here if you wanted\n",
    "    verses = convert_shem(verses)\n",
    "    end = verses.rfind(\"׃\")+1\n",
    "    verses = verses[0:end]\n",
    "    sourcestring = \"\\source{\"+title+\"}\"\n",
    "    first_space = verses.find(\" \")\n",
    "    outputstring = verses[0:first_space]+sourcestring+verses[first_space:]\n",
    "    return outputstring"
   ]
  },
  {
   "cell_type": "code",
   "execution_count": 149,
   "metadata": {},
   "outputs": [],
   "source": [
    "def TeXparser(inputtext):\n",
    "    if inputtext[0:3] != \"%?&\":\n",
    "        return None,None\n",
    "    if \"name\" in inputtext:\n",
    "        commandname = returnparam(inputtext,\"name\")\n",
    "    else:\n",
    "        commandname = None\n",
    "    if \"text\" in inputtext:\n",
    "        textname = returnparam(inputtext,\"text\")\n",
    "    else:\n",
    "        textname = None\n",
    "    return commandname,textname"
   ]
  },
  {
   "cell_type": "code",
   "execution_count": 155,
   "metadata": {},
   "outputs": [
    {
     "name": "stdout",
     "output_type": "stream",
     "text": [
      "https://www.sefaria.org/api/texts/Psalms.92?vhe=Miqra_according_to_the_Masorah&context=0\n"
     ]
    },
    {
     "data": {
      "text/plain": [
       "'מִזְמ֥וֹר\\\\source{תהילים צב} שִׁ֗יר לְי֣וֹם הַשַּׁבָּֽת׃ ט֗וֹב לְהֹד֥וֹת לַייָ֑ וּלְזַמֵּ֖ר לְשִׁמְךָ֣ עֶלְיֽוֹן׃ לְהַגִּ֣יד בַּבֹּ֣קֶר חַסְדֶּ֑ךָ וֶ֝אֱמ֥וּנָתְךָ֗ בַּלֵּילֽוֹת׃ עֲֽלֵי־עָ֭שׂוֹר וַעֲלֵי־נָ֑בֶל עֲלֵ֖י הִגָּי֣וֹן בְּכִנּֽוֹר׃ כִּ֤י שִׂמַּחְתַּ֣נִי יְיָ֣ בְּפׇעֳלֶ֑ךָ בְּֽמַעֲשֵׂ֖י יָדֶ֣יךָ אֲרַנֵּֽן׃ מַה־גָּדְל֣וּ מַעֲשֶׂ֣יךָ יְיָ֑ מְ֝אֹ֗ד עָמְק֥וּ מַחְשְׁבֹתֶֽיךָ׃ אִֽישׁ־בַּ֭עַר לֹ֣א יֵדָ֑ע וּ֝כְסִ֗יל לֹא־יָבִ֥ין אֶת־זֹֽאת׃ בִּפְרֹ֤חַ רְשָׁעִ֨ים ׀ כְּמ֥וֹ־עֵ֗שֶׂב וַ֭יָּצִיצוּ כׇּל־פֹּ֣עֲלֵי אָ֑וֶן לְהִשָּׁמְדָ֥ם עֲדֵי־עַֽד׃ וְאַתָּ֥ה מָר֗וֹם לְעֹלָ֥ם יְיָ׃ כִּ֤י הִנֵּ֪ה אֹיְבֶ֡יךָ ׀ יְיָ֗ כִּֽי־הִנֵּ֣ה אֹיְבֶ֣יךָ יֹאבֵ֑דוּ יִ֝תְפָּרְד֗וּ כׇּל־פֹּ֥עֲלֵי אָֽוֶן׃ וַתָּ֣רֶם כִּרְאֵ֣ים קַרְנִ֑י בַּ֝לֹּתִ֗י בְּשֶׁ֣מֶן רַעֲנָֽן׃ וַתַּבֵּ֥ט עֵינִ֗י בְּשׁ֫וּרָ֥י בַּקָּמִ֖ים עָלַ֥י מְרֵעִ֗ים תִּשְׁמַ֥עְנָה אׇזְנָֽי׃ צַ֭דִּיק כַּתָּמָ֣ר יִפְרָ֑ח כְּאֶ֖רֶז בַּלְּבָנ֣וֹן יִשְׂגֶּֽה׃ שְׁ֭תוּלִים בְּבֵ֣ית יְיָ֑ בְּחַצְר֖וֹת אֱלֹהֵ֣ינוּ יַפְרִֽיחוּ׃ ע֭וֹד יְנוּב֣וּן בְּשֵׂיבָ֑ה דְּשֵׁנִ֖ים וְֽרַעֲנַנִּ֣ים יִהְיֽוּ׃ לְ֭הַגִּיד כִּֽי־יָשָׁ֣ר יְיָ֑ צ֝וּרִ֗י וְֽלֹא־[עַוְלָ֥תָה] (עלתה) בּֽוֹ׃'"
      ]
     },
     "execution_count": 155,
     "metadata": {},
     "output_type": "execute_result"
    }
   ],
   "source": [
    "TeXtext(\"Psalms.92\")"
   ]
  },
  {
   "cell_type": "code",
   "execution_count": 156,
   "metadata": {},
   "outputs": [],
   "source": [
    "##using the above to generate a commands"
   ]
  },
  {
   "cell_type": "code",
   "execution_count": 157,
   "metadata": {},
   "outputs": [],
   "source": [
    "def TeXconverter(inputfile,outputfile):\n",
    "    with open(inputfile, 'r', encoding='utf-8') as infile:\n",
    "        lines = list(infile.readlines())\n",
    "    output_lines = []\n",
    "    for line in lines:\n",
    "        parsed_line = TeXparser(line)\n",
    "        if parsed_line[1] == None:\n",
    "            output_lines.append(line)\n",
    "        elif parsed_line[0] == None:\n",
    "            output_lines.append(TeXtext(parsed_line[1]))\n",
    "        else:\n",
    "            output_lines.append(TeXcommand(parsed_line[0],parsed_line[1]))\n",
    "    with open(outputfile, 'w', encoding='utf-8') as outfile:\n",
    "        for line in output_lines:\n",
    "            outfile.write(line)"
   ]
  },
  {
   "cell_type": "code",
   "execution_count": 158,
   "metadata": {},
   "outputs": [
    {
     "name": "stdout",
     "output_type": "stream",
     "text": [
      "https://www.sefaria.org/api/texts/Psalms.92?vhe=Miqra_according_to_the_Masorah&context=0\n",
      "https://www.sefaria.org/api/texts/Psalms.30?vhe=Miqra_according_to_the_Masorah&context=0\n",
      "https://www.sefaria.org/api/texts/Psalms.67?vhe=Miqra_according_to_the_Masorah&context=0\n",
      "https://www.sefaria.org/api/texts/Numbers.28:1-8?vhe=Miqra_according_to_the_Masorah&context=0\n",
      "https://www.sefaria.org/api/texts/Leviticus.1.11?vhe=Miqra_according_to_the_Masorah&context=0\n",
      "https://www.sefaria.org/api/texts/Psalms.91?vhe=Miqra_according_to_the_Masorah&context=0\n"
     ]
    }
   ],
   "source": [
    "TeXconverter('to_include/commands_raw.tex','to_include/commands.tex')"
   ]
  },
  {
   "cell_type": "code",
   "execution_count": null,
   "metadata": {},
   "outputs": [],
   "source": []
  }
 ],
 "metadata": {
  "kernelspec": {
   "display_name": "Python 3",
   "language": "python",
   "name": "python3"
  },
  "language_info": {
   "codemirror_mode": {
    "name": "ipython",
    "version": 3
   },
   "file_extension": ".py",
   "mimetype": "text/x-python",
   "name": "python",
   "nbconvert_exporter": "python",
   "pygments_lexer": "ipython3",
   "version": "3.7.4"
  }
 },
 "nbformat": 4,
 "nbformat_minor": 2
}
